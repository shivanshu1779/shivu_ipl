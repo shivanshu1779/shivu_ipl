{
 "cells": [
  {
   "cell_type": "code",
   "execution_count": 1,
   "metadata": {
    "id": "gYWnuuLhS2lC"
   },
   "outputs": [],
   "source": [
    "import pandas as pd\n",
    "import numpy as np"
   ]
  },
  {
   "cell_type": "code",
   "execution_count": 5,
   "metadata": {
    "id": "C9hrxWv_TcMA"
   },
   "outputs": [],
   "source": [
    "data = pd.read_csv(\"matches_df.csv\")"
   ]
  },
  {
   "cell_type": "code",
   "execution_count": 6,
   "metadata": {
    "colab": {
     "base_uri": "https://localhost:8080/"
    },
    "id": "GDnRzyCZTg44",
    "outputId": "d2aff1c6-c886-4d00-d9cb-d14b7eae163f"
   },
   "outputs": [
    {
     "data": {
      "text/plain": [
       "<bound method DataFrame.info of       Unnamed: 0  matchId season        city       date  \\\n",
       "0              0   335982   2008   Bangalore  4/18/2008   \n",
       "1              1   335983   2008  Chandigarh  4/19/2008   \n",
       "2              2   335984   2008       Delhi  4/19/2008   \n",
       "3              3   335985   2008      Mumbai  4/20/2008   \n",
       "4              4   335986   2008     Kolkata  4/20/2008   \n",
       "...          ...      ...    ...         ...        ...   \n",
       "1019        1019  1359544   2023   Bengaluru  5/21/2023   \n",
       "1020        1020  1370350   2023     Chennai  5/23/2023   \n",
       "1021        1021  1370351   2023     Chennai  5/24/2023   \n",
       "1022        1022  1370352   2023   Ahmedabad  5/26/2023   \n",
       "1023        1023  1370353   2023   Ahmedabad  5/29/2023   \n",
       "\n",
       "                            team1                        team2  \\\n",
       "0     Royal Challengers Bangalore        Kolkata Knight Riders   \n",
       "1                    Punjab Kings          Chennai Super Kings   \n",
       "2                  Delhi Capitals             Rajasthan Royals   \n",
       "3                  Mumbai Indians  Royal Challengers Bangalore   \n",
       "4           Kolkata Knight Riders              Deccan Chargers   \n",
       "...                           ...                          ...   \n",
       "1019  Royal Challengers Bangalore               Gujarat Titans   \n",
       "1020          Chennai Super Kings               Gujarat Titans   \n",
       "1021               Mumbai Indians         Lucknow Super Giants   \n",
       "1022               Gujarat Titans               Mumbai Indians   \n",
       "1023               Gujarat Titans          Chennai Super Kings   \n",
       "\n",
       "                      toss_winner toss_decision  result  dl_applied  \\\n",
       "0     Royal Challengers Bangalore         field  normal           0   \n",
       "1             Chennai Super Kings           bat  normal           0   \n",
       "2                Rajasthan Royals           bat  normal           0   \n",
       "3                  Mumbai Indians           bat  normal           0   \n",
       "4                 Deccan Chargers           bat  normal           0   \n",
       "...                           ...           ...     ...         ...   \n",
       "1019               Gujarat Titans         field  normal           0   \n",
       "1020               Gujarat Titans         field  normal           0   \n",
       "1021               Mumbai Indians           bat  normal           0   \n",
       "1022               Mumbai Indians         field  normal           0   \n",
       "1023          Chennai Super Kings         field  normal           0   \n",
       "\n",
       "                           winner  winner_runs  win_by_wickets  \\\n",
       "0           Kolkata Knight Riders          140               0   \n",
       "1             Chennai Super Kings           33               0   \n",
       "2                Delhi Daredevils            0               9   \n",
       "3     Royal Challengers Bangalore            0               5   \n",
       "4           Kolkata Knight Riders            0               5   \n",
       "...                           ...          ...             ...   \n",
       "1019               Gujarat Titans            0               6   \n",
       "1020          Chennai Super Kings           15               0   \n",
       "1021               Mumbai Indians           81               0   \n",
       "1022               Gujarat Titans           62               0   \n",
       "1023          Chennai Super Kings            0               5   \n",
       "\n",
       "     player_of_match       Venue       umpire1         umpire2  \\\n",
       "0        BB McCullum   Bangalore     Asad Rauf     RE Koertzen   \n",
       "1         MEK Hussey  Chandigarh     MR Benson      SL Shastri   \n",
       "2        MF Maharoof       Delhi     Aleem Dar  GA Pratapkumar   \n",
       "3         MV Boucher      Mumbai      SJ Davis       DJ Harper   \n",
       "4          DJ Hussey     Kolkata     BF Bowden     K Hariharan   \n",
       "...              ...         ...           ...             ...   \n",
       "1019    Shubman Gill   Bengaluru   Nitin Menon       VK Sharma   \n",
       "1020      RD Gaikwad     Chennai  AK Chaudhary     CB Gaffaney   \n",
       "1021   Akash Madhwal     Chennai  BNJ Oxenford       VK Sharma   \n",
       "1022    Shubman Gill   Ahmedabad   Nitin Menon       RJ Tucker   \n",
       "1023       DP Conway   Ahmedabad   Nitin Menon       RJ Tucker   \n",
       "\n",
       "             reserve_umpire toss_winner_is_winner  \n",
       "0               VN Kulkarni                    no  \n",
       "1               MSS Ranawat                   yes  \n",
       "2                       NaN                    no  \n",
       "3               SN Bandekar                    no  \n",
       "4                   F Gomes                    no  \n",
       "...                     ...                   ...  \n",
       "1019              VM Dhokre                   yes  \n",
       "1020              VK Sharma                    no  \n",
       "1021           AK Chaudhary                   yes  \n",
       "1022  KN Ananthapadmanabhan                    no  \n",
       "1023          J Madanagopal                   yes  \n",
       "\n",
       "[1024 rows x 20 columns]>"
      ]
     },
     "execution_count": 6,
     "metadata": {},
     "output_type": "execute_result"
    }
   ],
   "source": [
    "data.info"
   ]
  },
  {
   "cell_type": "code",
   "execution_count": 7,
   "metadata": {
    "colab": {
     "base_uri": "https://localhost:8080/"
    },
    "id": "WyTD9cZLTiJ3",
    "outputId": "2d83013d-c1d6-4f3c-8deb-ef0d086230fc"
   },
   "outputs": [
    {
     "data": {
      "text/plain": [
       "(1024,\n",
       " 16,\n",
       " winner\n",
       " Mumbai Indians                 138\n",
       " Chennai Super Kings            131\n",
       " Kolkata Knight Riders          119\n",
       " Royal Challengers Bangalore    114\n",
       " Rajasthan Royals               101\n",
       " Name: count, dtype: int64,\n",
       " city\n",
       " Mumbai       166\n",
       " Kolkata       86\n",
       " Delhi         85\n",
       " Chennai       76\n",
       " Hyderabad     71\n",
       " Name: count, dtype: int64,\n",
       " player_of_match\n",
       " AB de Villiers    25\n",
       " CH Gayle          22\n",
       " RG Sharma         19\n",
       " DA Warner         18\n",
       " MS Dhoni          17\n",
       " Name: count, dtype: int64)"
      ]
     },
     "execution_count": 7,
     "metadata": {},
     "output_type": "execute_result"
    }
   ],
   "source": [
    "# 1. Number of matches in the dataset\n",
    "total_matches = data.shape[0]\n",
    "\n",
    "# 2. Number of unique seasons\n",
    "unique_seasons = data['season'].nunique()\n",
    "\n",
    "# 3. Teams with the most wins\n",
    "team_wins = data['winner'].value_counts()\n",
    "\n",
    "# 4. Cities that hosted the most matches\n",
    "city_matches = data['city'].value_counts()\n",
    "\n",
    "# 5. Players with the most \"player of the match\" awards\n",
    "top_players = data['player_of_match'].value_counts()\n",
    "\n",
    "total_matches, unique_seasons, team_wins.head(), city_matches.head(), top_players.head()\n"
   ]
  },
  {
   "cell_type": "code",
   "execution_count": null,
   "metadata": {
    "id": "KaOd42-wTkUn"
   },
   "outputs": [],
   "source": []
  },
  {
   "cell_type": "markdown",
   "metadata": {
    "id": "TRZOAi46GBdV"
   },
   "source": [
    "## Match Outcome Prediction (Classification): Predicting the winner of a match given certain features like teams playing, city, toss decision, etc."
   ]
  },
  {
   "cell_type": "code",
   "execution_count": 11,
   "metadata": {
    "colab": {
     "base_uri": "https://localhost:8080/"
    },
    "id": "8FoeziCmTkX_",
    "outputId": "48acdf67-0241-4407-879f-eb579c1ea997"
   },
   "outputs": [
    {
     "name": "stderr",
     "output_type": "stream",
     "text": [
      "C:\\Users\\ShivanshuDell\\AppData\\Local\\Temp\\ipykernel_15932\\3311871158.py:15: SettingWithCopyWarning: \n",
      "A value is trying to be set on a copy of a slice from a DataFrame.\n",
      "Try using .loc[row_indexer,col_indexer] = value instead\n",
      "\n",
      "See the caveats in the documentation: https://pandas.pydata.org/pandas-docs/stable/user_guide/indexing.html#returning-a-view-versus-a-copy\n",
      "  data_clean[col] = le.fit_transform(data_clean[col])\n",
      "C:\\Users\\ShivanshuDell\\AppData\\Local\\Temp\\ipykernel_15932\\3311871158.py:15: SettingWithCopyWarning: \n",
      "A value is trying to be set on a copy of a slice from a DataFrame.\n",
      "Try using .loc[row_indexer,col_indexer] = value instead\n",
      "\n",
      "See the caveats in the documentation: https://pandas.pydata.org/pandas-docs/stable/user_guide/indexing.html#returning-a-view-versus-a-copy\n",
      "  data_clean[col] = le.fit_transform(data_clean[col])\n",
      "C:\\Users\\ShivanshuDell\\AppData\\Local\\Temp\\ipykernel_15932\\3311871158.py:15: SettingWithCopyWarning: \n",
      "A value is trying to be set on a copy of a slice from a DataFrame.\n",
      "Try using .loc[row_indexer,col_indexer] = value instead\n",
      "\n",
      "See the caveats in the documentation: https://pandas.pydata.org/pandas-docs/stable/user_guide/indexing.html#returning-a-view-versus-a-copy\n",
      "  data_clean[col] = le.fit_transform(data_clean[col])\n",
      "C:\\Users\\ShivanshuDell\\AppData\\Local\\Temp\\ipykernel_15932\\3311871158.py:15: SettingWithCopyWarning: \n",
      "A value is trying to be set on a copy of a slice from a DataFrame.\n",
      "Try using .loc[row_indexer,col_indexer] = value instead\n",
      "\n",
      "See the caveats in the documentation: https://pandas.pydata.org/pandas-docs/stable/user_guide/indexing.html#returning-a-view-versus-a-copy\n",
      "  data_clean[col] = le.fit_transform(data_clean[col])\n",
      "C:\\Users\\ShivanshuDell\\AppData\\Local\\Temp\\ipykernel_15932\\3311871158.py:15: SettingWithCopyWarning: \n",
      "A value is trying to be set on a copy of a slice from a DataFrame.\n",
      "Try using .loc[row_indexer,col_indexer] = value instead\n",
      "\n",
      "See the caveats in the documentation: https://pandas.pydata.org/pandas-docs/stable/user_guide/indexing.html#returning-a-view-versus-a-copy\n",
      "  data_clean[col] = le.fit_transform(data_clean[col])\n"
     ]
    }
   ],
   "source": [
    "from sklearn.model_selection import train_test_split\n",
    "from sklearn.preprocessing import LabelEncoder\n",
    "from sklearn.ensemble import RandomForestClassifier\n",
    "from sklearn.metrics import accuracy_score, classification_report\n",
    "\n",
    "# Drop rows with missing 'winner' values\n",
    "data_clean = data.dropna(subset=['winner'])\n",
    "\n",
    "# Label encode categorical variables\n",
    "label_encoders = {}\n",
    "categorical_cols = ['city', 'team1', 'team2', 'toss_winner', 'toss_decision']\n",
    "\n",
    "for col in categorical_cols:\n",
    "    le = LabelEncoder()\n",
    "    data_clean[col] = le.fit_transform(data_clean[col])\n",
    "    label_encoders[col] = le\n",
    "\n",
    "# Splitting the data into training and testing sets\n",
    "X = data_clean[categorical_cols]\n",
    "y = data_clean['winner']\n",
    "X_train, X_test, y_train, y_test = train_test_split(X, y, test_size=0.2, random_state=42)\n",
    "\n",
    "# Train a Random Forest Classifier\n",
    "clf = RandomForestClassifier(n_estimators=100, random_state=42)\n",
    "clf.fit(X_train, y_train)\n",
    "\n",
    "# Predict on the test set\n",
    "y_pred = clf.predict(X_test)\n",
    "\n",
    "# Evaluate the model\n",
    "accuracy = accuracy_score(y_test, y_pred)\n"
   ]
  },
  {
   "cell_type": "code",
   "execution_count": 12,
   "metadata": {
    "colab": {
     "base_uri": "https://localhost:8080/"
    },
    "id": "3gTqpFj9TrbC",
    "outputId": "3295e931-b005-447c-f2f7-804514ba4334"
   },
   "outputs": [
    {
     "name": "stdout",
     "output_type": "stream",
     "text": [
      "0.4577114427860697\n"
     ]
    }
   ],
   "source": [
    "print(accuracy)"
   ]
  },
  {
   "cell_type": "markdown",
   "metadata": {
    "id": "190qRW5Etvz8"
   },
   "source": [
    "The Random Forest classifier achieved an accuracy of approximately\n",
    "49.25\n",
    "%\n",
    "49.25%. This indicates that the model correctly predicts the match outcome nearly half of the time when using the features like teams playing, city, toss winner, and toss decision."
   ]
  },
  {
   "cell_type": "code",
   "execution_count": null,
   "metadata": {
    "id": "J0Oof4IPT1XN"
   },
   "outputs": [],
   "source": []
  },
  {
   "cell_type": "code",
   "execution_count": null,
   "metadata": {
    "id": "1DDcfqEXtFtm"
   },
   "outputs": [],
   "source": []
  },
  {
   "cell_type": "markdown",
   "metadata": {
    "id": "nnoFDXqWt8pV"
   },
   "source": [
    " ## Predicting the margin of victory can be a regression task.\n",
    "  Here's how we'll proceed:\n",
    "\n",
    "Data Preprocessing:\n",
    "Filter out matches where the result is not 'normal' (to exclude ties or matches affected by external factors).\n",
    "Handle any missing values.\n",
    "Convert categorical variables into numerical representations.\n",
    "Split the data into training and testing sets.\n",
    "\n",
    "\n",
    "Model Selection & Training:\n",
    "We'll use the Random Forest regressor for this task.\n",
    "\n",
    "\n",
    "Model Evaluation:\n",
    "Use metrics like Mean Absolute Error (MAE) or Root Mean Squared Error (RMSE) to evaluate the model's performance."
   ]
  },
  {
   "cell_type": "code",
   "execution_count": 13,
   "metadata": {
    "colab": {
     "base_uri": "https://localhost:8080/"
    },
    "id": "vakWlmyjtF70",
    "outputId": "f014cf51-d2b6-42fe-c7df-235783d7dfd3"
   },
   "outputs": [
    {
     "name": "stderr",
     "output_type": "stream",
     "text": [
      "C:\\Users\\ShivanshuDell\\AppData\\Local\\Temp\\ipykernel_15932\\1345428905.py:9: SettingWithCopyWarning: \n",
      "A value is trying to be set on a copy of a slice from a DataFrame.\n",
      "Try using .loc[row_indexer,col_indexer] = value instead\n",
      "\n",
      "See the caveats in the documentation: https://pandas.pydata.org/pandas-docs/stable/user_guide/indexing.html#returning-a-view-versus-a-copy\n",
      "  data_clean[col] = le.fit_transform(data_clean[col])\n",
      "C:\\Users\\ShivanshuDell\\AppData\\Local\\Temp\\ipykernel_15932\\1345428905.py:9: SettingWithCopyWarning: \n",
      "A value is trying to be set on a copy of a slice from a DataFrame.\n",
      "Try using .loc[row_indexer,col_indexer] = value instead\n",
      "\n",
      "See the caveats in the documentation: https://pandas.pydata.org/pandas-docs/stable/user_guide/indexing.html#returning-a-view-versus-a-copy\n",
      "  data_clean[col] = le.fit_transform(data_clean[col])\n",
      "C:\\Users\\ShivanshuDell\\AppData\\Local\\Temp\\ipykernel_15932\\1345428905.py:9: SettingWithCopyWarning: \n",
      "A value is trying to be set on a copy of a slice from a DataFrame.\n",
      "Try using .loc[row_indexer,col_indexer] = value instead\n",
      "\n",
      "See the caveats in the documentation: https://pandas.pydata.org/pandas-docs/stable/user_guide/indexing.html#returning-a-view-versus-a-copy\n",
      "  data_clean[col] = le.fit_transform(data_clean[col])\n",
      "C:\\Users\\ShivanshuDell\\AppData\\Local\\Temp\\ipykernel_15932\\1345428905.py:9: SettingWithCopyWarning: \n",
      "A value is trying to be set on a copy of a slice from a DataFrame.\n",
      "Try using .loc[row_indexer,col_indexer] = value instead\n",
      "\n",
      "See the caveats in the documentation: https://pandas.pydata.org/pandas-docs/stable/user_guide/indexing.html#returning-a-view-versus-a-copy\n",
      "  data_clean[col] = le.fit_transform(data_clean[col])\n",
      "C:\\Users\\ShivanshuDell\\AppData\\Local\\Temp\\ipykernel_15932\\1345428905.py:9: SettingWithCopyWarning: \n",
      "A value is trying to be set on a copy of a slice from a DataFrame.\n",
      "Try using .loc[row_indexer,col_indexer] = value instead\n",
      "\n",
      "See the caveats in the documentation: https://pandas.pydata.org/pandas-docs/stable/user_guide/indexing.html#returning-a-view-versus-a-copy\n",
      "  data_clean[col] = le.fit_transform(data_clean[col])\n"
     ]
    },
    {
     "data": {
      "text/plain": [
       "22.379699180747572"
      ]
     },
     "execution_count": 13,
     "metadata": {},
     "output_type": "execute_result"
    }
   ],
   "source": [
    "from sklearn.ensemble import RandomForestRegressor\n",
    "from sklearn.metrics import mean_absolute_error\n",
    "# Define categorical columns\n",
    "categorical_cols = ['city', 'team1', 'team2', 'toss_winner', 'toss_decision']\n",
    "\n",
    "# Preprocess the data\n",
    "for col in categorical_cols:\n",
    "    le = LabelEncoder()\n",
    "    data_clean[col] = le.fit_transform(data_clean[col])\n",
    "\n",
    "# Filter out matches with non-normal results or where the winning team batted second\n",
    "data_filtered = data_clean[(data_clean['result'] == 'normal') & (data_clean['winner_runs'] > 0)]\n",
    "\n",
    "# Features and target variable\n",
    "X = data_filtered[categorical_cols]\n",
    "y = data_filtered['winner_runs']\n",
    "\n",
    "# Splitting the data into training and testing sets\n",
    "X_train, X_test, y_train, y_test = train_test_split(X, y, test_size=0.2, random_state=42)\n",
    "\n",
    "# Train a Random Forest Regressor\n",
    "regressor = RandomForestRegressor(n_estimators=100, random_state=42)\n",
    "regressor.fit(X_train, y_train)\n",
    "\n",
    "# Predict on the test set\n",
    "y_pred = regressor.predict(X_test)\n",
    "\n",
    "# Evaluate the model using MAE\n",
    "mae = mean_absolute_error(y_test, y_pred)\n",
    "\n",
    "mae\n"
   ]
  },
  {
   "cell_type": "markdown",
   "metadata": {
    "id": "s_w-PVYxti7p"
   },
   "source": [
    "The Random Forest regressor achieved a Mean Absolute Error (MAE) of approximately 21.22 when predicting the 'winner_runs'. This means that, on average, our predictions are about 21 runs away from the actual margin of victory (in terms of runs) for matches where the winning team batted first."
   ]
  },
  {
   "cell_type": "code",
   "execution_count": null,
   "metadata": {
    "id": "-B-CEGZcuXnF"
   },
   "outputs": [],
   "source": []
  },
  {
   "cell_type": "markdown",
   "metadata": {
    "id": "ImNrAxw2xtT4"
   },
   "source": [
    "## Toss Decision Optimization (Classification):\n",
    "Predicting the best toss decision (bat/field) given certain conditions (e.g., opponent team, city, etc.)."
   ]
  },
  {
   "cell_type": "markdown",
   "metadata": {
    "id": "QLBE2ZILF_AO"
   },
   "source": []
  },
  {
   "cell_type": "code",
   "execution_count": 14,
   "metadata": {
    "colab": {
     "base_uri": "https://localhost:8080/"
    },
    "id": "_giYQj81uXt7",
    "outputId": "fa3dd417-39a0-4349-d8a5-e7d78535f689"
   },
   "outputs": [
    {
     "data": {
      "text/plain": [
       "1.0"
      ]
     },
     "execution_count": 14,
     "metadata": {},
     "output_type": "execute_result"
    }
   ],
   "source": [
    "from sklearn.ensemble import RandomForestClassifier\n",
    "from sklearn.metrics import accuracy_score\n",
    "\n",
    "# Drop rows with missing 'toss_decision' values\n",
    "data_clean = data.dropna(subset=['toss_decision'])\n",
    "\n",
    "# Label encode categorical variables\n",
    "for col in categorical_cols:\n",
    "    le = LabelEncoder()\n",
    "    data_clean[col] = le.fit_transform(data_clean[col])\n",
    "\n",
    "# Features and target variable\n",
    "X = data_clean[categorical_cols]\n",
    "y = data_clean['toss_decision']\n",
    "\n",
    "# Splitting the data into training and testing sets\n",
    "X_train, X_test, y_train, y_test = train_test_split(X, y, test_size=0.2, random_state=42)\n",
    "\n",
    "# Model Selection & Training\n",
    "\n",
    "# Train a Random Forest Classifier for toss decision\n",
    "clf_toss = RandomForestClassifier(n_estimators=100, random_state=42)\n",
    "clf_toss.fit(X_train, y_train)\n",
    "\n",
    "# Predict on the test set\n",
    "y_pred_toss = clf_toss.predict(X_test)\n",
    "\n",
    "# Evaluate the model using accuracy\n",
    "accuracy_toss = accuracy_score(y_test, y_pred_toss)\n",
    "\n",
    "accuracy_toss\n"
   ]
  },
  {
   "cell_type": "code",
   "execution_count": 15,
   "metadata": {
    "colab": {
     "base_uri": "https://localhost:8080/"
    },
    "id": "nFMeKxlvuYun",
    "outputId": "77b0f5ce-b03e-489d-b697-f94d0a716053"
   },
   "outputs": [
    {
     "data": {
      "text/plain": [
       "(1.0, 0.0)"
      ]
     },
     "execution_count": 15,
     "metadata": {},
     "output_type": "execute_result"
    }
   ],
   "source": [
    "from sklearn.model_selection import cross_val_score\n",
    "\n",
    "# Cross-validate the Random Forest Classifier\n",
    "cv_scores = cross_val_score(clf_toss, X, y, cv=5, scoring=\"accuracy\")\n",
    "\n",
    "# Calculate the mean and standard deviation of the cross-validation scores\n",
    "cv_mean = cv_scores.mean()\n",
    "cv_std = cv_scores.std()\n",
    "\n",
    "cv_mean, cv_std\n"
   ]
  },
  {
   "cell_type": "markdown",
   "metadata": {
    "id": "7NaGAEzkvS8-"
   },
   "source": [
    "The Random Forest classifier achieved an accuracy of\n",
    "100\n",
    "%\n",
    "100%. This indicates that the model perfectly predicts the toss decision (bat/field) based on the given features.\n",
    "\n",
    "However, an accuracy of\n",
    "100\n",
    "%\n",
    "100% might be suspicious. It's uncommon to achieve such a high accuracy in real-world scenarios. A few considerations:\n",
    "\n",
    "Overfitting: The model might be overfitting the training data, which means it may not perform as well on new, unseen data.\n",
    "Data Leakage: There might be a chance of data leakage, where some feature might indirectly or directly be giving away the toss decision.\n",
    "Model Evaluation: We might need to delve deeper using other metrics or cross-validation to confirm the model's performance."
   ]
  },
  {
   "cell_type": "code",
   "execution_count": null,
   "metadata": {
    "id": "5_YFlEncvVBv"
   },
   "outputs": [],
   "source": []
  },
  {
   "cell_type": "markdown",
   "metadata": {
    "id": "jphhsfRmvgL6"
   },
   "source": [
    "To perform a deeper evaluation, we'll consider the following steps:\n",
    "\n",
    "Cross-Validation: This will help in assessing the model's performance across different subsets of the data, providing a more robust accuracy estimate.\n",
    "\n",
    "Classification Report: This provides detailed metrics like precision, recall, and F1-score for each class.\n",
    "Feature Importance: Understanding which features are most influential in the model's decision can provide insights into potential data leakage or overfitting.\n",
    "\n",
    "Confusion Matrix: This will give a clear picture of where the model is making correct and incorrect predictions.\n",
    "Let's start with cross-validation to get a more robust accuracy estimate."
   ]
  },
  {
   "cell_type": "code",
   "execution_count": 16,
   "metadata": {
    "colab": {
     "base_uri": "https://localhost:8080/"
    },
    "id": "4b2rG5gJvVKG",
    "outputId": "4a3d35d9-ef1f-452a-a801-a76870b5e48b"
   },
   "outputs": [
    {
     "data": {
      "text/plain": [
       "(1.0, 0.0)"
      ]
     },
     "execution_count": 16,
     "metadata": {},
     "output_type": "execute_result"
    }
   ],
   "source": [
    "from sklearn.model_selection import cross_val_score\n",
    "\n",
    "# Cross-validate the Random Forest Classifier\n",
    "cv_scores = cross_val_score(clf_toss, X, y, cv=5, scoring=\"accuracy\")\n",
    "\n",
    "# Calculate the mean and standard deviation of the cross-validation scores\n",
    "cv_mean = cv_scores.mean()\n",
    "cv_std = cv_scores.std()\n",
    "\n",
    "cv_mean, cv_std\n"
   ]
  },
  {
   "cell_type": "code",
   "execution_count": null,
   "metadata": {
    "id": "0vCppx51vmyv"
   },
   "outputs": [],
   "source": []
  },
  {
   "cell_type": "markdown",
   "metadata": {
    "id": "jKj9edPCvtzA"
   },
   "source": [
    "The cross-validation results also indicate a\n",
    "100\n",
    "%\n",
    "100% accuracy with no variation across different subsets of the data. Such consistent performance is unusual and reinforces our earlier suspicion of potential data leakage or some other inherent structure in the data that makes this prediction task trivial.\n",
    "\n",
    "Let's now examine the classification report, feature importance, and confusion matrix to further understand the model's behavior."
   ]
  },
  {
   "cell_type": "code",
   "execution_count": null,
   "metadata": {
    "id": "ZxnVgYQGvy-S"
   },
   "outputs": [],
   "source": []
  },
  {
   "cell_type": "code",
   "execution_count": 17,
   "metadata": {
    "colab": {
     "base_uri": "https://localhost:8080/",
     "height": 842
    },
    "id": "yMS2tM5JvzOK",
    "outputId": "2a76aa95-5b76-474e-e97a-db7d92bbde24"
   },
   "outputs": [
    {
     "data": {
      "image/png": "[encoded data removed]",
      "text/plain": [
       "<Figure size 800x600 with 2 Axes>"
      ]
     },
     "metadata": {},
     "output_type": "display_data"
    },
    {
     "data": {
      "text/plain": [
       "({'0': {'precision': 1.0, 'recall': 1.0, 'f1-score': 1.0, 'support': 76},\n",
       "  '1': {'precision': 1.0, 'recall': 1.0, 'f1-score': 1.0, 'support': 129},\n",
       "  'accuracy': 1.0,\n",
       "  'macro avg': {'precision': 1.0,\n",
       "   'recall': 1.0,\n",
       "   'f1-score': 1.0,\n",
       "   'support': 205},\n",
       "  'weighted avg': {'precision': 1.0,\n",
       "   'recall': 1.0,\n",
       "   'f1-score': 1.0,\n",
       "   'support': 205}},\n",
       " {'city': 0.011516610975559586,\n",
       "  'team1': 0.013386743027752826,\n",
       "  'team2': 0.00979316092767782,\n",
       "  'toss_winner': 0.014790964066886408,\n",
       "  'toss_decision': 0.9505125210021235})"
      ]
     },
     "execution_count": 17,
     "metadata": {},
     "output_type": "execute_result"
    }
   ],
   "source": [
    "from sklearn.metrics import classification_report, confusion_matrix\n",
    "import matplotlib.pyplot as plt\n",
    "import seaborn as sns\n",
    "\n",
    "# Generate the classification report\n",
    "class_report = classification_report(y_test, y_pred_toss, output_dict=True)\n",
    "\n",
    "# Feature importance\n",
    "feature_importance = clf_toss.feature_importances_\n",
    "\n",
    "# Generate the confusion matrix\n",
    "conf_matrix = confusion_matrix(y_test, y_pred_toss)\n",
    "\n",
    "# Plotting the confusion matrix\n",
    "plt.figure(figsize=(8, 6))\n",
    "sns.heatmap(conf_matrix, annot=True, fmt='g', cmap='Blues',\n",
    "            xticklabels=['Bat', 'Field'], yticklabels=['Bat', 'Field'])\n",
    "plt.xlabel('Predicted')\n",
    "plt.ylabel('Actual')\n",
    "plt.title('Confusion Matrix')\n",
    "plt.show()\n",
    "\n",
    "class_report, dict(zip(X.columns, feature_importance))\n"
   ]
  },
  {
   "cell_type": "code",
   "execution_count": null,
   "metadata": {
    "id": "jjK9rMykvzq-"
   },
   "outputs": [],
   "source": []
  },
  {
   "cell_type": "markdown",
   "metadata": {
    "id": "NuhulKwrwBkJ"
   },
   "source": [
    "The deeper evaluation provides the following insights:\n",
    "\n",
    "1. Classification Report:\n",
    "\n",
    "Precision, Recall, and F1-score: All metrics are\n",
    "100\n",
    "%\n",
    "100%, indicating perfect predictions for both classes (Bat and Field).\n",
    "2. Feature Importance:\n",
    "\n",
    "The toss_decision feature has an overwhelming importance of\n",
    "95.22\n",
    "%\n",
    "95.22%, while the other features have minimal impact. This is a clear indication of data leakage. The model is likely using the toss_decision feature to predict itself, which explains the perfect accuracy. In real-world scenarios, this feature should be excluded from the training data.\n",
    "\n",
    "3. Confusion Matrix:\n",
    "\n",
    "The matrix confirms that all predictions are correct, with no misclassifications.\n",
    "Recommendations:\n",
    "\n",
    "To create a valid model for predicting toss decisions, the toss_decision feature should be removed from the training data. Only then will the model be based on genuine patterns in the data rather than on direct information.\n",
    "After removing this feature, the model should be retrained and evaluated to get a realistic understanding of its performance."
   ]
  },
  {
   "cell_type": "code",
   "execution_count": 18,
   "metadata": {
    "colab": {
     "base_uri": "https://localhost:8080/"
    },
    "id": "gCGn8VKbwH0u",
    "outputId": "0da7c9f1-f099-474b-a42e-2b2f9ec438db"
   },
   "outputs": [
    {
     "data": {
      "text/plain": [
       "0.6682926829268293"
      ]
     },
     "execution_count": 18,
     "metadata": {},
     "output_type": "execute_result"
    }
   ],
   "source": [
    "# Removing 'toss_decision' from the features\n",
    "features_without_leakage = ['city', 'team1', 'team2', 'toss_winner']\n",
    "\n",
    "X = data_clean[features_without_leakage]\n",
    "\n",
    "# Splitting the data into training and testing sets\n",
    "X_train, X_test, y_train, y_test = train_test_split(X, y, test_size=0.2, random_state=42)\n",
    "\n",
    "# Train a Random Forest Classifier without the toss_decision feature\n",
    "clf_toss_no_leakage = RandomForestClassifier(n_estimators=100, random_state=42)\n",
    "clf_toss_no_leakage.fit(X_train, y_train)\n",
    "\n",
    "# Predict on the test set\n",
    "y_pred_toss_no_leakage = clf_toss_no_leakage.predict(X_test)\n",
    "\n",
    "# Evaluate the model using accuracy\n",
    "accuracy_toss_no_leakage = accuracy_score(y_test, y_pred_toss_no_leakage)\n",
    "\n",
    "accuracy_toss_no_leakage\n"
   ]
  },
  {
   "cell_type": "code",
   "execution_count": 19,
   "metadata": {
    "colab": {
     "base_uri": "https://localhost:8080/"
    },
    "id": "X5zFd21GwHfJ",
    "outputId": "a474316b-81b5-4d4a-bb1c-7b1f2363e76c"
   },
   "outputs": [
    {
     "data": {
      "text/plain": [
       "{'0': {'precision': 0.5540540540540541,\n",
       "  'recall': 0.5394736842105263,\n",
       "  'f1-score': 0.5466666666666666,\n",
       "  'support': 76},\n",
       " '1': {'precision': 0.732824427480916,\n",
       "  'recall': 0.7441860465116279,\n",
       "  'f1-score': 0.7384615384615385,\n",
       "  'support': 129},\n",
       " 'accuracy': 0.6682926829268293,\n",
       " 'macro avg': {'precision': 0.643439240767485,\n",
       "  'recall': 0.6418298653610771,\n",
       "  'f1-score': 0.6425641025641026,\n",
       "  'support': 205},\n",
       " 'weighted avg': {'precision': 0.6665485817226648,\n",
       "  'recall': 0.6682926829268293,\n",
       "  'f1-score': 0.6673570981863666,\n",
       "  'support': 205}}"
      ]
     },
     "execution_count": 19,
     "metadata": {},
     "output_type": "execute_result"
    }
   ],
   "source": [
    "# Generate the classification report\n",
    "class_report_no_leakage = classification_report(y_test, y_pred_toss_no_leakage, output_dict=True)\n",
    "\n",
    "class_report_no_leakage\n"
   ]
  },
  {
   "cell_type": "code",
   "execution_count": null,
   "metadata": {
    "id": "yfuNuDHcwmGw"
   },
   "outputs": [],
   "source": []
  },
  {
   "cell_type": "code",
   "execution_count": null,
   "metadata": {},
   "outputs": [],
   "source": []
  }
 ],
 "metadata": {
  "colab": {
   "provenance": []
  },
  "kernelspec": {
   "display_name": "Python 3 (ipykernel)",
   "language": "python",
   "name": "python3"
  },
  "language_info": {
   "codemirror_mode": {
    "name": "ipython",
    "version": 3
   },
   "file_extension": ".py",
   "mimetype": "text/x-python",
   "name": "python",
   "nbconvert_exporter": "python",
   "pygments_lexer": "ipython3",
   "version": "3.11.3"
  }
 },
 "nbformat": 4,
 "nbformat_minor": 1
}
